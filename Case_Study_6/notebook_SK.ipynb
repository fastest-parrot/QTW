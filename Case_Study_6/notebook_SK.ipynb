{
 "cells": [
  {
   "cell_type": "markdown",
   "metadata": {},
   "source": [
    "# DS 7333 - Quantifying the World\n",
    "## Case Study #6: \"Searching for Exotic Particles in High-Energy Physics with Deep Learning\"¶\n",
    "\n",
    "Sterling Beason, Sean Kennedy, Emil Ramos"
   ]
  },
  {
   "cell_type": "code",
   "execution_count": 108,
   "metadata": {},
   "outputs": [],
   "source": [
    "import pandas as pd\n",
    "import numpy as np\n",
    "import matplotlib.pyplot as plt\n",
    "from IPython.display import Markdown as md\n",
    "from IPython.display import display\n",
    "%matplotlib inline\n",
    "# modeling\n",
    "import tensorflow as tf\n",
    "from tensorflow.keras import Sequential\n",
    "from tensorflow.keras.layers import Dense\n",
    "from tensorflow.keras.callbacks import EarlyStopping\n",
    "from sklearn.model_selection import train_test_split\n",
    "# sklearn helpers\n",
    "from sklearn.metrics import roc_curve\n",
    "from sklearn.metrics import auc\n",
    "from tensorflow.keras.wrappers.scikit_learn import KerasClassifier\n",
    "from sklearn.base import BaseEstimator\n",
    "from sklearn.preprocessing import StandardScaler\n",
    "import seaborn as sns"
   ]
  },
  {
   "cell_type": "code",
   "execution_count": 31,
   "metadata": {},
   "outputs": [
    {
     "name": "stdout",
     "output_type": "stream",
     "text": [
      "2.2.0\n"
     ]
    }
   ],
   "source": [
    "print(tf.__version__)"
   ]
  },
  {
   "cell_type": "code",
   "execution_count": 113,
   "metadata": {},
   "outputs": [],
   "source": [
    "def do_model(name,\n",
    "             features,\n",
    "             labels,\n",
    "             base_activation='tanh',\n",
    "             epochs=200,\n",
    "             batch_size=100,\n",
    "             decay_rate=0.5,\n",
    "             optimizer=None):\n",
    "    display(md(f\"### {name}\"))\n",
    "\n",
    "    initial_learning_rate = 0.05\n",
    "    if not optimizer:\n",
    "        lr_schedule = tf.keras.optimizers.schedules.ExponentialDecay(\n",
    "            initial_learning_rate=initial_learning_rate,\n",
    "            decay_steps=100000,\n",
    "            decay_rate=decay_rate,\n",
    "            staircase=True)\n",
    "        optimizer = tf.keras.optimizers.SGD(learning_rate=lr_schedule)\n",
    "\n",
    "    # Partition data\n",
    "    display(md(\"#### Partition Data\"))\n",
    "    X = features\n",
    "    y = labels\n",
    "    X_train, X_test, y_train, y_test = train_test_split(X,\n",
    "                                                        y,\n",
    "                                                        test_size=0.20,\n",
    "                                                        random_state=7333)\n",
    "    print(\"done.\")\n",
    "\n",
    "    # Partition data\n",
    "    display(md(\"#### Normalize Data\"))\n",
    "    \n",
    "    #fit to train data\n",
    "    scaler = StandardScaler()\n",
    "    X_train = scaler.fit_transform(X_train)\n",
    "    #transform test, do not fit\n",
    "    X_test = scaler.transform(X_test)\n",
    "\n",
    "    print(\"done.\")\n",
    "\n",
    "    \n",
    "    # Build model\n",
    "    display(md(\"#### Build Model\"))\n",
    "    model = tf.keras.Sequential([\n",
    "        tf.keras.layers.Dense(300, activation=base_activation),\n",
    "        tf.keras.layers.Dropout(rate=0.5),\n",
    "        tf.keras.layers.Dense(300, activation=base_activation),\n",
    "        tf.keras.layers.Dense(300, activation=base_activation),\n",
    "        tf.keras.layers.Dense(300, activation=base_activation),\n",
    "        tf.keras.layers.Dense(1, activation='sigmoid')\n",
    "    ])\n",
    "    model.compile(optimizer=optimizer, loss='mse', metrics=['accuracy'])\n",
    "    print(\"done.\")\n",
    "\n",
    "    # early stopping callback\n",
    "    es = EarlyStopping(monitor=\"accuracy\", min_delta=0.01, patience=4)\n",
    "\n",
    "    display(md(\"#### Train Model\"))\n",
    "    # fit\n",
    "    history = model.fit(X_train,\n",
    "                        y_train,\n",
    "                        validation_data=(X_test, y_test),\n",
    "                        callbacks=[es],\n",
    "                        epochs=epochs,\n",
    "                        batch_size=batch_size)\n",
    "\n",
    "    display(md(\"#### Train/Loss Plot (MSE)\"))\n",
    "\n",
    "    fig, ax = plt.subplots(nrows=2, ncols=1, figsize=(20, 10))\n",
    "    ax.ravel()\n",
    "    #print(history.history)\n",
    "    p = sns.lineplot(x=range(1,\n",
    "                             len(history.history['loss']) + 1),\n",
    "                     y=history.history['loss'],\n",
    "                     color='blue',\n",
    "                     label='train',\n",
    "                     ax=ax[0])\n",
    "    sns.lineplot(x=range(1,\n",
    "                         len(history.history['val_loss']) + 1),\n",
    "                 y=history.history['val_loss'],\n",
    "                 color='orange',\n",
    "                 label='validation',\n",
    "                 ax=ax[0])\n",
    "    p.set_ylabel('Loss (Blue: Train, Orange: Val.)')\n",
    "    p.set_xlabel('Epochs')\n",
    "    p.set_title('Training/Validation Curves')\n",
    "\n",
    "    # accuracy\n",
    "    model_scores = model.evaluate(X_test, y_test, verbose=0)\n",
    "\n",
    "    # AUC\n",
    "    predictions = model.predict(X_test).ravel()  # predictions\n",
    "    fpr, tpr, thresholds = roc_curve(y_test, predictions)  # ROC\n",
    "    auc_metric = auc(fpr, tpr)  # finally AUC\n",
    "\n",
    "    # print metrics\n",
    "    display(md(\"#### Evaluate Model - Metrics\"))\n",
    "    print('Accuracy:', model_scores[1])\n",
    "    print(f\"AUC: {auc_metric}\")\n",
    "    print(f\"base_activation: {base_activation}\")\n",
    "\n",
    "    #ROC curve\n",
    "    p = sns.scatterplot(\n",
    "        x=fpr,\n",
    "        y=tpr,\n",
    "        label=f'Keras NN {base_activation}: AUC {round(auc_metric, 3)}',\n",
    "        ax=ax[1],\n",
    "        ci=None)\n",
    "    p.set_title('ROC Curve')\n",
    "    plt.show()\n",
    "    display(md(f\"### ----------------------------------\"))\n",
    "\n",
    "    return (model_scores[1], auc_metric)"
   ]
  },
  {
   "cell_type": "code",
   "execution_count": 99,
   "metadata": {},
   "outputs": [
    {
     "name": "stdout",
     "output_type": "stream",
     "text": [
      "[1]\n"
     ]
    }
   ],
   "source": [
    "print([x for x in range(1, 2)])"
   ]
  },
  {
   "cell_type": "markdown",
   "metadata": {},
   "source": [
    "### Import Data\n",
    "\n",
    "Subset to 3,000,000 rows so as to conserve training time"
   ]
  },
  {
   "cell_type": "code",
   "execution_count": 80,
   "metadata": {},
   "outputs": [
    {
     "name": "stdout",
     "output_type": "stream",
     "text": [
      "Using 3,000,000 rows of entire dataset\n"
     ]
    }
   ],
   "source": [
    "# import data\n",
    "nrows = 3000000\n",
    "data = pd.read_csv(\"./data/HIGGS.csv\", nrows=nrows, header=None)\n",
    "data[0] = data[0].astype(int)\n",
    "print(f\"Using {nrows:,.0f} rows of entire dataset\")"
   ]
  },
  {
   "cell_type": "markdown",
   "metadata": {},
   "source": [
    "### Data Description \n",
    "\n",
    "\n",
    "> The first column is the class label (1 for signal, 0 for background), followed by the 28 features (21 low-level features then 7 high-level features): lepton pT, lepton eta, lepton phi, missing energy magnitude, missing energy phi, jet 1 pt, jet 1 eta, jet 1 phi, jet 1 b-tag, jet 2 pt, jet 2 eta, jet 2 phi, jet 2 b-tag, jet 3 pt, jet 3 eta, jet 3 phi, jet 3 b-tag, jet 4 pt, jet 4 eta, jet 4 phi, jet 4 b-tag, m_jj, m_jjj, m_lv, m_jlv, m_bb, m_wbb, m_wwbb. For more detailed information about each feature see the original paper.\n",
    "\n"
   ]
  },
  {
   "cell_type": "markdown",
   "metadata": {},
   "source": [
    "### Partition Data\n",
    "\n",
    "- Low-level features\n",
    "\n",
    "- High-level features\n",
    "\n",
    "- All features\n",
    "\n",
    "***We're running all three - why not? :)***\n",
    "\n",
    "***The train test split will be 80/20 train/test*** "
   ]
  },
  {
   "cell_type": "markdown",
   "metadata": {},
   "source": [
    "### Your replica neural network based on the paper’s architecture\n",
    "\n",
    "\n",
    "***Theirs***\n",
    "\n",
    "**https://arxiv.org/pdf/1402.4735.pdf** \n",
    "\n",
    "(pg. 6)\n",
    ">We selected a five-layer neural\n",
    "network with 300 hidden units in each layer, a learning\n",
    "rate of 0.05, and a weight decay coefficient of 1 × 10−5.\n",
    "\n",
    "(pg. 9, Methods)\n",
    ">Hidden units all used the tanh activation function.\n",
    "Weights were initialized from a normal distribution with\n",
    "zero mean and standard deviation 0.1 in the first layer,\n",
    "0.001 in the output layer, and 0.05 all other hidden layers\n",
    "\n",
    "(pg. 9, Methods)\n",
    ">  Gradient computations were made on mini-batches\n",
    "of size 100. A momentum term increased linearly over\n",
    "the first 200 epochs from 0.9 to 0.99, at which point it\n",
    "remained constant.\n",
    "\n",
    "(pg. 9, Methods)\n",
    ">Training ended when the momentum had\n",
    "reached its maximum value and the minimum error on\n",
    "the validation set (500,000 examples) had not decreased\n",
    "by more than a factor of 0.00001 over 10 epochs. This\n",
    "early stopping prevented overfitting and resulted in each\n",
    "neural network being trained for 200-1000 epochs.\n",
    "\n",
    "(pg. 9, Methods)\n",
    ">Autoencoder pretraining was performed by training a\n",
    "stack of single-hidden-layer autoencoder networks as in\n",
    "[9], then fine-tuning the full network using the class labels. Each autoencoder in the stack used tanh hidden\n",
    "units and linear outputs, and was trained with the same\n",
    "initialization scheme, learning algorithm, and stopping\n",
    "parameters as in the fine-tuning stage. When training\n",
    "with dropout, we increased the learning rate decay factor\n",
    "to 1.0000003, and only ended training when the momentum had reached its maximum value and the error on the\n",
    "validation set had not decreased for 40 epochs.\n",
    "\n",
    "\n",
    "**Ours**\n",
    "\n",
    "In this approach, we will model as closely as possible with the following models/parameters.\n",
    "\n",
    "- Keras Sequential NN\n",
    "- Keras Optimizers (controls learning decay rate in our Stochastic Gradient Descent algorithm) \n",
    "\n",
    "The exponential decay of the learning rate at step n of the SGD search is controlled by the function:\n",
    "\n",
    "$$lr_{n}=lr_{0}*d^\\frac{n}{ds}$$\n",
    "\n",
    "\n",
    "Where $lr_{n}$ is the learning rate at step $n$, $lr_{0}$ is the initial learning rate, $d$ is the decay rate and $ds$ is the number of steps where the decay will be applied. This method is slightly different than that used by the researchers (see notes in summary/conclusion)\n",
    "\n",
    "\n",
    "We will match the inital learning rate $lr_{0}=0.05$.\n",
    "\n",
    "We will be setting the learning rate decay steps ($ds$) = 10,000. Setting our decay rate to 0.50 gives us an effective learning rate curve that looks like the below:\n"
   ]
  },
  {
   "cell_type": "code",
   "execution_count": 112,
   "metadata": {},
   "outputs": [
    {
     "data": {
      "text/plain": [
       "<matplotlib.axes._subplots.AxesSubplot at 0x1e7b2b5c8d0>"
      ]
     },
     "execution_count": 112,
     "metadata": {},
     "output_type": "execute_result"
    },
    {
     "data": {
      "image/png": "[encoded data removed]",
      "text/plain": [
       "<Figure size 432x288 with 1 Axes>"
      ]
     },
     "metadata": {
      "needs_background": "light"
     },
     "output_type": "display_data"
    }
   ],
   "source": [
    "iters = 10000\n",
    "epochs = range(1, iters + 1)\n",
    "learning_rate = 0.05\n",
    "decay_rate = 0.50\n",
    "effective_learning_rate = [learning_rate*decay_rate**(n/iters) for n in epochs]\n",
    "p = sns.scatterplot(x=epochs, y=effective_learning_rate, ci=None)\n",
    "p.set_title('Effective Learning Rate')\n",
    "p.set_xlabel('Epoch')\n",
    "p.set_ylabel('LR')\n",
    "p"
   ]
  },
  {
   "cell_type": "markdown",
   "metadata": {},
   "source": [
    "Ideally, this will allow our network to converge more quickly than it would otherwise. \n",
    "\n",
    "The researchers were able to set the initial weights of their layers according to specified normal ($N(\\mu,\\sigma$)) distributions - keras dense layers do not seem to support that option out of the box so we will proceed with the default keras implementation which is random initialization. \n",
    "\n",
    "Our model will consist of:\n",
    "\n",
    "- an implicit input layer (matching the dimensions of our feature set) \n",
    "- 4, 300 node dense tanh activation layers\n",
    "- 1 50% probability drop out layer between the 1st and second dense layer\n",
    "- 1 final layer with single node (sigmoid activation)\n",
    "\n",
    "The drop out layer will serve as a regularization layer.\n",
    "\n",
    "Our stopping method will be accuracy based with a min delta of 0.01 and patience setting of 4. This will truncate training when an increase of 0.01 in accuracy is not achieved over the course of 4 epochs.\n",
    "\n",
    "The researchers were also able to use a paramter called **momentum** in their stopping algorithm which was not available to us in the keras api.\n",
    "\n",
    "Note that all of our inputs were scaled to $N(0,1)$ using the sk-learn StandardScaler"
   ]
  },
  {
   "cell_type": "code",
   "execution_count": 114,
   "metadata": {
    "scrolled": false
   },
   "outputs": [
    {
     "data": {
      "text/markdown": [
       "### Low-level"
      ],
      "text/plain": [
       "<IPython.core.display.Markdown object>"
      ]
     },
     "metadata": {},
     "output_type": "display_data"
    },
    {
     "data": {
      "text/markdown": [
       "#### Partition Data"
      ],
      "text/plain": [
       "<IPython.core.display.Markdown object>"
      ]
     },
     "metadata": {},
     "output_type": "display_data"
    },
    {
     "name": "stdout",
     "output_type": "stream",
     "text": [
      "done.\n"
     ]
    },
    {
     "data": {
      "text/markdown": [
       "#### Normalize Data"
      ],
      "text/plain": [
       "<IPython.core.display.Markdown object>"
      ]
     },
     "metadata": {},
     "output_type": "display_data"
    },
    {
     "name": "stdout",
     "output_type": "stream",
     "text": [
      "done.\n"
     ]
    },
    {
     "data": {
      "text/markdown": [
       "#### Build Model"
      ],
      "text/plain": [
       "<IPython.core.display.Markdown object>"
      ]
     },
     "metadata": {},
     "output_type": "display_data"
    },
    {
     "name": "stdout",
     "output_type": "stream",
     "text": [
      "done.\n"
     ]
    },
    {
     "data": {
      "text/markdown": [
       "#### Train Model"
      ],
      "text/plain": [
       "<IPython.core.display.Markdown object>"
      ]
     },
     "metadata": {},
     "output_type": "display_data"
    },
    {
     "name": "stdout",
     "output_type": "stream",
     "text": [
      "Epoch 1/200\n",
      "24000/24000 [==============================] - 88s 4ms/step - loss: 0.2343 - accuracy: 0.5976 - val_loss: 0.2197 - val_accuracy: 0.6435\n",
      "Epoch 2/200\n",
      "24000/24000 [==============================] - 88s 4ms/step - loss: 0.2188 - accuracy: 0.6451 - val_loss: 0.2116 - val_accuracy: 0.6633\n",
      "Epoch 3/200\n",
      "24000/24000 [==============================] - 86s 4ms/step - loss: 0.2132 - accuracy: 0.6593 - val_loss: 0.2072 - val_accuracy: 0.6737\n",
      "Epoch 4/200\n",
      "24000/24000 [==============================] - 86s 4ms/step - loss: 0.2102 - accuracy: 0.6665 - val_loss: 0.2049 - val_accuracy: 0.6790\n",
      "Epoch 5/200\n",
      "24000/24000 [==============================] - 87s 4ms/step - loss: 0.2079 - accuracy: 0.6716 - val_loss: 0.2020 - val_accuracy: 0.6853\n",
      "Epoch 6/200\n",
      "24000/24000 [==============================] - 87s 4ms/step - loss: 0.2068 - accuracy: 0.6740 - val_loss: 0.2013 - val_accuracy: 0.6870\n",
      "Epoch 7/200\n",
      "24000/24000 [==============================] - 87s 4ms/step - loss: 0.2061 - accuracy: 0.6760 - val_loss: 0.2010 - val_accuracy: 0.6875\n",
      "Epoch 8/200\n",
      "24000/24000 [==============================] - 87s 4ms/step - loss: 0.2055 - accuracy: 0.6774 - val_loss: 0.2007 - val_accuracy: 0.6882\n",
      "Epoch 9/200\n",
      "24000/24000 [==============================] - 87s 4ms/step - loss: 0.2046 - accuracy: 0.6790 - val_loss: 0.1996 - val_accuracy: 0.6904\n"
     ]
    },
    {
     "data": {
      "text/markdown": [
       "#### Train/Loss Plot (MSE)"
      ],
      "text/plain": [
       "<IPython.core.display.Markdown object>"
      ]
     },
     "metadata": {},
     "output_type": "display_data"
    },
    {
     "data": {
      "text/markdown": [
       "#### Evaluate Model - Metrics"
      ],
      "text/plain": [
       "<IPython.core.display.Markdown object>"
      ]
     },
     "metadata": {},
     "output_type": "display_data"
    },
    {
     "name": "stdout",
     "output_type": "stream",
     "text": [
      "Accuracy: 0.690351665019989\n",
      "AUC: 0.7562998028902375\n",
      "base_activation: tanh\n"
     ]
    },
    {
     "data": {
      "image/png": "[encoded data removed]",
      "text/plain": [
       "<Figure size 1440x720 with 2 Axes>"
      ]
     },
     "metadata": {
      "needs_background": "light"
     },
     "output_type": "display_data"
    },
    {
     "data": {
      "text/markdown": [
       "### ----------------------------------"
      ],
      "text/plain": [
       "<IPython.core.display.Markdown object>"
      ]
     },
     "metadata": {},
     "output_type": "display_data"
    },
    {
     "data": {
      "text/markdown": [
       "### High-level"
      ],
      "text/plain": [
       "<IPython.core.display.Markdown object>"
      ]
     },
     "metadata": {},
     "output_type": "display_data"
    },
    {
     "data": {
      "text/markdown": [
       "#### Partition Data"
      ],
      "text/plain": [
       "<IPython.core.display.Markdown object>"
      ]
     },
     "metadata": {},
     "output_type": "display_data"
    },
    {
     "name": "stdout",
     "output_type": "stream",
     "text": [
      "done.\n"
     ]
    },
    {
     "data": {
      "text/markdown": [
       "#### Normalize Data"
      ],
      "text/plain": [
       "<IPython.core.display.Markdown object>"
      ]
     },
     "metadata": {},
     "output_type": "display_data"
    },
    {
     "name": "stdout",
     "output_type": "stream",
     "text": [
      "done.\n"
     ]
    },
    {
     "data": {
      "text/markdown": [
       "#### Build Model"
      ],
      "text/plain": [
       "<IPython.core.display.Markdown object>"
      ]
     },
     "metadata": {},
     "output_type": "display_data"
    },
    {
     "name": "stdout",
     "output_type": "stream",
     "text": [
      "done.\n"
     ]
    },
    {
     "data": {
      "text/markdown": [
       "#### Train Model"
      ],
      "text/plain": [
       "<IPython.core.display.Markdown object>"
      ]
     },
     "metadata": {},
     "output_type": "display_data"
    },
    {
     "name": "stdout",
     "output_type": "stream",
     "text": [
      "Epoch 1/200\n",
      "24000/24000 [==============================] - 88s 4ms/step - loss: 0.2062 - accuracy: 0.6735 - val_loss: 0.1919 - val_accuracy: 0.7016\n",
      "Epoch 2/200\n",
      "24000/24000 [==============================] - 85s 4ms/step - loss: 0.1933 - accuracy: 0.6987 - val_loss: 0.1893 - val_accuracy: 0.7057\n",
      "Epoch 3/200\n",
      "24000/24000 [==============================] - 85s 4ms/step - loss: 0.1912 - accuracy: 0.7022 - val_loss: 0.1879 - val_accuracy: 0.7081\n",
      "Epoch 4/200\n",
      "24000/24000 [==============================] - 85s 4ms/step - loss: 0.1902 - accuracy: 0.7039 - val_loss: 0.1871 - val_accuracy: 0.7097\n",
      "Epoch 5/200\n",
      "24000/24000 [==============================] - 86s 4ms/step - loss: 0.1893 - accuracy: 0.7060 - val_loss: 0.1866 - val_accuracy: 0.7101\n",
      "Epoch 6/200\n",
      "24000/24000 [==============================] - 85s 4ms/step - loss: 0.1889 - accuracy: 0.7065 - val_loss: 0.1862 - val_accuracy: 0.7114\n"
     ]
    },
    {
     "data": {
      "text/markdown": [
       "#### Train/Loss Plot (MSE)"
      ],
      "text/plain": [
       "<IPython.core.display.Markdown object>"
      ]
     },
     "metadata": {},
     "output_type": "display_data"
    },
    {
     "data": {
      "text/markdown": [
       "#### Evaluate Model - Metrics"
      ],
      "text/plain": [
       "<IPython.core.display.Markdown object>"
      ]
     },
     "metadata": {},
     "output_type": "display_data"
    },
    {
     "name": "stdout",
     "output_type": "stream",
     "text": [
      "Accuracy: 0.7114149928092957\n",
      "AUC: 0.7896993584627365\n",
      "base_activation: tanh\n"
     ]
    },
    {
     "data": {
      "image/png": "[encoded data removed]",
      "text/plain": [
       "<Figure size 1440x720 with 2 Axes>"
      ]
     },
     "metadata": {
      "needs_background": "light"
     },
     "output_type": "display_data"
    },
    {
     "data": {
      "text/markdown": [
       "### ----------------------------------"
      ],
      "text/plain": [
       "<IPython.core.display.Markdown object>"
      ]
     },
     "metadata": {},
     "output_type": "display_data"
    },
    {
     "data": {
      "text/markdown": [
       "### Mix-Low+High"
      ],
      "text/plain": [
       "<IPython.core.display.Markdown object>"
      ]
     },
     "metadata": {},
     "output_type": "display_data"
    },
    {
     "data": {
      "text/markdown": [
       "#### Partition Data"
      ],
      "text/plain": [
       "<IPython.core.display.Markdown object>"
      ]
     },
     "metadata": {},
     "output_type": "display_data"
    },
    {
     "name": "stdout",
     "output_type": "stream",
     "text": [
      "done.\n"
     ]
    },
    {
     "data": {
      "text/markdown": [
       "#### Normalize Data"
      ],
      "text/plain": [
       "<IPython.core.display.Markdown object>"
      ]
     },
     "metadata": {},
     "output_type": "display_data"
    },
    {
     "name": "stdout",
     "output_type": "stream",
     "text": [
      "done.\n"
     ]
    },
    {
     "data": {
      "text/markdown": [
       "#### Build Model"
      ],
      "text/plain": [
       "<IPython.core.display.Markdown object>"
      ]
     },
     "metadata": {},
     "output_type": "display_data"
    },
    {
     "name": "stdout",
     "output_type": "stream",
     "text": [
      "done.\n"
     ]
    },
    {
     "data": {
      "text/markdown": [
       "#### Train Model"
      ],
      "text/plain": [
       "<IPython.core.display.Markdown object>"
      ]
     },
     "metadata": {},
     "output_type": "display_data"
    },
    {
     "name": "stdout",
     "output_type": "stream",
     "text": [
      "Epoch 1/200\n",
      "24000/24000 [==============================] - 85s 4ms/step - loss: 0.2101 - accuracy: 0.6666 - val_loss: 0.1871 - val_accuracy: 0.7146\n",
      "Epoch 2/200\n",
      "24000/24000 [==============================] - 85s 4ms/step - loss: 0.1869 - accuracy: 0.7148 - val_loss: 0.1770 - val_accuracy: 0.7327\n",
      "Epoch 3/200\n",
      "24000/24000 [==============================] - 86s 4ms/step - loss: 0.1801 - accuracy: 0.7272 - val_loss: 0.1738 - val_accuracy: 0.7384\n",
      "Epoch 4/200\n",
      "24000/24000 [==============================] - 86s 4ms/step - loss: 0.1774 - accuracy: 0.7319 - val_loss: 0.1709 - val_accuracy: 0.7429\n",
      "Epoch 5/200\n",
      "24000/24000 [==============================] - 85s 4ms/step - loss: 0.1751 - accuracy: 0.7360 - val_loss: 0.1697 - val_accuracy: 0.7450\n",
      "Epoch 6/200\n",
      "24000/24000 [==============================] - 85s 4ms/step - loss: 0.1741 - accuracy: 0.7374 - val_loss: 0.1693 - val_accuracy: 0.7455\n",
      "Epoch 7/200\n",
      "24000/24000 [==============================] - 86s 4ms/step - loss: 0.1735 - accuracy: 0.7386 - val_loss: 0.1684 - val_accuracy: 0.7477\n",
      "Epoch 8/200\n",
      "24000/24000 [==============================] - 85s 4ms/step - loss: 0.1729 - accuracy: 0.7394 - val_loss: 0.1679 - val_accuracy: 0.7481\n",
      "Epoch 9/200\n",
      "24000/24000 [==============================] - 84s 4ms/step - loss: 0.1722 - accuracy: 0.7408 - val_loss: 0.1670 - val_accuracy: 0.7497\n",
      "Epoch 10/200\n",
      "24000/24000 [==============================] - 85s 4ms/step - loss: 0.1717 - accuracy: 0.7415 - val_loss: 0.1672 - val_accuracy: 0.7496\n"
     ]
    },
    {
     "data": {
      "text/markdown": [
       "#### Train/Loss Plot (MSE)"
      ],
      "text/plain": [
       "<IPython.core.display.Markdown object>"
      ]
     },
     "metadata": {},
     "output_type": "display_data"
    },
    {
     "data": {
      "text/markdown": [
       "#### Evaluate Model - Metrics"
      ],
      "text/plain": [
       "<IPython.core.display.Markdown object>"
      ]
     },
     "metadata": {},
     "output_type": "display_data"
    },
    {
     "name": "stdout",
     "output_type": "stream",
     "text": [
      "Accuracy: 0.7496349811553955\n",
      "AUC: 0.8313661153788147\n",
      "base_activation: tanh\n"
     ]
    },
    {
     "data": {
      "image/png": "[encoded data removed]",
      "text/plain": [
       "<Figure size 1440x720 with 2 Axes>"
      ]
     },
     "metadata": {
      "needs_background": "light"
     },
     "output_type": "display_data"
    },
    {
     "data": {
      "text/markdown": [
       "### ----------------------------------"
      ],
      "text/plain": [
       "<IPython.core.display.Markdown object>"
      ]
     },
     "metadata": {},
     "output_type": "display_data"
    }
   ],
   "source": [
    "%matplotlib inline\n",
    "\n",
    "compare_dict = {}\n",
    "\n",
    "compare_dict[\"Low-level\"] = do_model(\"Low-level\",\n",
    "                                     data.iloc[:, range(1, 22)].values,\n",
    "                                     data[0].values)\n",
    "compare_dict[\"High-level\"] = do_model(\"High-level\",\n",
    "                                     data.iloc[:, range(22, 29)].values,\n",
    "                                     data[0].values)\n",
    "compare_dict[\"Mix-Low+High\"] = do_model(\"Mix-Low+High\",\n",
    "                                     data.iloc[:, range(1, 29)].values,\n",
    "                                     data[0].values)"
   ]
  },
  {
   "cell_type": "code",
   "execution_count": null,
   "metadata": {
    "scrolled": false
   },
   "outputs": [
    {
     "data": {
      "text/markdown": [
       "### Low-level"
      ],
      "text/plain": [
       "<IPython.core.display.Markdown object>"
      ]
     },
     "metadata": {},
     "output_type": "display_data"
    },
    {
     "data": {
      "text/markdown": [
       "#### Partition Data"
      ],
      "text/plain": [
       "<IPython.core.display.Markdown object>"
      ]
     },
     "metadata": {},
     "output_type": "display_data"
    },
    {
     "name": "stdout",
     "output_type": "stream",
     "text": [
      "done.\n"
     ]
    },
    {
     "data": {
      "text/markdown": [
       "#### Normalize Data"
      ],
      "text/plain": [
       "<IPython.core.display.Markdown object>"
      ]
     },
     "metadata": {},
     "output_type": "display_data"
    },
    {
     "name": "stdout",
     "output_type": "stream",
     "text": [
      "done.\n"
     ]
    },
    {
     "data": {
      "text/markdown": [
       "#### Build Model"
      ],
      "text/plain": [
       "<IPython.core.display.Markdown object>"
      ]
     },
     "metadata": {},
     "output_type": "display_data"
    },
    {
     "name": "stdout",
     "output_type": "stream",
     "text": [
      "done.\n"
     ]
    },
    {
     "data": {
      "text/markdown": [
       "#### Train Model"
      ],
      "text/plain": [
       "<IPython.core.display.Markdown object>"
      ]
     },
     "metadata": {},
     "output_type": "display_data"
    },
    {
     "name": "stdout",
     "output_type": "stream",
     "text": [
      "Epoch 1/200\n",
      "24000/24000 [==============================] - 87s 4ms/step - loss: 0.2315 - accuracy: 0.6072 - val_loss: 0.2208 - val_accuracy: 0.6408\n",
      "Epoch 2/200\n",
      "24000/24000 [==============================] - ETA: 0s - loss: 0.2218 - accuracy: 0.6380"
     ]
    }
   ],
   "source": [
    "%matplotlib inline\n",
    "\n",
    "\n",
    "\n",
    "compare_dict[\"Low-level relu\"] = do_model(\"Low-level\",\n",
    "                                     data.iloc[:, range(1, 22)].values,\n",
    "                                     data[0].values,\n",
    "                                     base_activation='relu')\n",
    "compare_dict[\"High-level relu\"] = do_model(\"High-level\",\n",
    "                                     data.iloc[:, range(22, 29)].values,\n",
    "                                     data[0].values,\n",
    "                                     base_activation='relu')\n",
    "compare_dict[\"Mix-Low+High relu\"] = do_model(\"Mix-Low+High\",\n",
    "                                     data.iloc[:, range(1, 29)].values,\n",
    "                                     data[0].values,\n",
    "                                     base_activation='relu')"
   ]
  },
  {
   "cell_type": "markdown",
   "metadata": {},
   "source": [
    "***Any recommendations or modifications you’d make to the approach taken by the researchers (i.e., state any proposed changes along with the expected improvements or impact)***\n",
    "\n",
    "(page 9)\n",
    ">In training the neural networks, the following hyperparameters were predetermined without optimization\n",
    "\n",
    "[Keras classifiers can now be used with the same cross validation/grid search architecture found in sk-learn](https://medium.com/@am.benatmane/keras-hyperparameter-tuning-using-sklearn-pipelines-grid-search-with-cross-validation-ccfc74b0ce9f). Using that type of hyperparameter tuning could have been incredibly helpful had it been available to the researchers in this paper. Varying dropout rates, learning rates, weight decay, activation functions and network geometry (layers/depth) could have allowed them to search a much larger parameter space in an efficient way.\n",
    "\n",
    "The researchers were also seemingly limited by the lack of cheap compute we currently enjoy today. The dataset used in their hyper parameter search (2.6mm training observations, 100k validation records) could have been expanded greatly given the increased availability of GPUs or perhaps even TPUs. Even with our unremarkable PC hardware, we were easily able to use 3 million rows of data in our analysis.\n",
    "\n",
    "Additionally, many of the Keras optimization options were not available to the researchers. Classes such as [exponential_decay](https://keras.io/api/optimizers/learning_rate_schedules/exponential_decay/) could have saved them time due to the ease of use versus pylearn2. With that said, their \"hands on\" approach to learning rate decay allowed them more control over the overall decay process. Simply using the keras optimizers did not allow us to set sophisticated stopping criterion for the decay as the researchers did in their algorithm.\n",
    "\n",
    "Additionally, while they mentioned adding a dropout layer for regularization/better generalization, they did not seem to implement this layer in their [code](https://github.com/uci-igb/higgs-susy/blob/master/higgs/layers4_width300_lr005_m200_wd000001_all.py) This was trivial using the keras framework.\n",
    "\n",
    "\n",
    "***What are standard practices now versus when this paper was written?***  \n",
    "\n",
    "Nearly all activation layers in modern NN architechture make use of sigmoid or relu functions instead of tanh due to the simplicity of the derivatives for sigmoid and relu. This typically decreases training time. In our case, we decided to run the exact same NN with relu instead of tanh and while we did not notice a speed increase for training time, we did see better results for accuracy and AUC with the relu activation. \n",
    "\n",
    "The researchers also made an odd choice with the initialization of the weights in their hidden layers - opting for a varying scheme of samples taken from normal distributions by layer. Best practices usually dicate the use of random initialization of weights. It's unclear why they chose this route or what benefit it may have provided, if any.\n",
    "\n",
    "Pylearn2 is [dead](https://github.com/lisa-lab/pylearn2) - no one would use that particular library these days. There is no active support. Keras/tensorflow or sk-learn are the (current) gold standards for machine learning in python."
   ]
  },
  {
   "cell_type": "markdown",
   "metadata": {},
   "source": [
    "***How would you quantify if your result duplicated the paper’s (hint: what evaluation metric did the researchers use)?***\n",
    "\n",
    "We were able to closely mirror the AUC scores achieved by the DNN approach taken by the researchers. Using the tanh activation function:\n",
    "\n",
    "|||Low Level ||High Level ||All|\n",
    "|--||----------||----------||----------|\n",
    "|Theirs|| 0.88||0.80||0.80|\n",
    "|Ours|| 0.76|| 0.79|| 0.83|\n",
    "\n",
    "Using the relu activation function:\n",
    "\n",
    "|Low Level ||High Level ||All|\n",
    "|----------||----------||----------|\n",
    "| 0.88||0.75||0.75|\n",
    "\n",
    "A closer comparison of the models could be undertaken by comparing the weights in the network, but that would require us to fully implement the model on the researchers github which was beyond the scope of this analysis. \n",
    "\n",
    "All in all, we were able to closely replicate the results using far fewer lines of coding and in a much more efficient manner given the architecture and hardware improvements that have been made since the papers publication. The relative ease in creating a neural network using modern software architecture does come at a price - overall, the researchers were able to get very good results using the older architecture. This is probably due to the granular level of control the researchers exerted over the algorithm by using a much lower level API (which is unfortunately deprecated).\n"
   ]
  },
  {
   "cell_type": "code",
   "execution_count": null,
   "metadata": {},
   "outputs": [],
   "source": []
  }
 ],
 "metadata": {
  "hide_input": false,
  "kernelspec": {
   "display_name": "Python 3",
   "language": "python",
   "name": "python3"
  },
  "language_info": {
   "codemirror_mode": {
    "name": "ipython",
    "version": 3
   },
   "file_extension": ".py",
   "mimetype": "text/x-python",
   "name": "python",
   "nbconvert_exporter": "python",
   "pygments_lexer": "ipython3",
   "version": "3.7.0"
  },
  "latex_envs": {
   "LaTeX_envs_menu_present": true,
   "autoclose": false,
   "autocomplete": true,
   "bibliofile": "biblio.bib",
   "cite_by": "apalike",
   "current_citInitial": 1,
   "eqLabelWithNumbers": true,
   "eqNumInitial": 1,
   "hotkeys": {
    "equation": "Ctrl-E",
    "itemize": "Ctrl-I"
   },
   "labels_anchors": false,
   "latex_user_defs": false,
   "report_style_numbering": false,
   "user_envs_cfg": false
  }
 },
 "nbformat": 4,
 "nbformat_minor": 4
}
