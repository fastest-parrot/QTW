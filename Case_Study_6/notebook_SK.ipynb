{
 "cells": [
  {
   "cell_type": "markdown",
   "metadata": {},
   "source": [
    "# DS 7333 - Quantifying the World\n",
    "## Case Study #6: \"Searching for Exotic Particles in High-Energy Physics with Deep Learning\"¶\n",
    "\n",
    "Sterling Beason, Sean Kennedy, Emil Ramos"
   ]
  },
  {
   "cell_type": "code",
   "execution_count": 76,
   "metadata": {},
   "outputs": [],
   "source": [
    "import pandas as pd\n",
    "import numpy as np\n",
    "import matplotlib.pyplot as plt\n",
    "from IPython.display import Markdown as md\n",
    "from IPython.display import display\n",
    "%matplotlib inline\n",
    "# modeling\n",
    "import tensorflow as tf\n",
    "from tensorflow.keras import Sequential\n",
    "from tensorflow.keras.layers import Dense\n",
    "from tensorflow.keras.callbacks import EarlyStopping\n",
    "from sklearn.model_selection import train_test_split\n",
    "# sklearn helpers\n",
    "from sklearn.metrics import roc_curve\n",
    "from sklearn.metrics import auc\n",
    "from tensorflow.keras.wrappers.scikit_learn import KerasClassifier\n",
    "from sklearn.base import BaseEstimator\n",
    "\n",
    "import seaborn as sns"
   ]
  },
  {
   "cell_type": "code",
   "execution_count": 31,
   "metadata": {},
   "outputs": [
    {
     "name": "stdout",
     "output_type": "stream",
     "text": [
      "2.2.0\n"
     ]
    }
   ],
   "source": [
    "print(tf.__version__)"
   ]
  },
  {
   "cell_type": "code",
   "execution_count": 74,
   "metadata": {},
   "outputs": [],
   "source": [
    "def do_model(name,\n",
    "             features,\n",
    "             labels,\n",
    "             base_activation='tanh',\n",
    "             epochs=200,\n",
    "             batch_size=100):\n",
    "    display(md(f\"### {name}\"))\n",
    "\n",
    "    initial_learning_rate = 0.1\n",
    "    lr_schedule = tf.keras.optimizers.schedules.ExponentialDecay(\n",
    "        initial_learning_rate=initial_learning_rate,\n",
    "        decay_steps=100000,\n",
    "        decay_rate=0.9,\n",
    "        staircase=True)\n",
    "    optimizer = tf.keras.optimizers.SGD(learning_rate=lr_schedule)\n",
    "\n",
    "    # Partition data\n",
    "    display(md(\"#### Partition Data\"))\n",
    "    X = features\n",
    "    y = labels\n",
    "    X_train, X_test, y_train, y_test = train_test_split(X,\n",
    "                                                        y,\n",
    "                                                        test_size=0.20,\n",
    "                                                        random_state=7333)\n",
    "    print(\"done.\")\n",
    "\n",
    "    # Build model\n",
    "    display(md(\"#### Build Model\"))\n",
    "    model = tf.keras.Sequential([\n",
    "        tf.keras.layers.Dense(300, activation=base_activation),\n",
    "        tf.keras.layers.Dropout(rate=0.5),\n",
    "        tf.keras.layers.Dense(300, activation=base_activation),\n",
    "        tf.keras.layers.Dense(300, activation=base_activation),\n",
    "        tf.keras.layers.Dense(300, activation=base_activation),\n",
    "        tf.keras.layers.Dense(1, activation='sigmoid')\n",
    "    ])\n",
    "    model.compile(optimizer=optimizer, loss='mse', metrics=['accuracy'])\n",
    "    print(\"done.\")\n",
    "\n",
    "    # early stopping callback\n",
    "    es = EarlyStopping(monitor=\"accuracy\", min_delta=0.01, patience=4)\n",
    "\n",
    "    display(md(\"#### Train Model\"))\n",
    "    # fit\n",
    "    history = model.fit(X_train,\n",
    "                        y_train,\n",
    "                        validation_data=(X_test, y_test),\n",
    "                        callbacks=[es],\n",
    "                        epochs=epochs,\n",
    "                        batch_size=batch_size)\n",
    "\n",
    "    display(md(\"#### Train/Loss Plot (MSE)\"))\n",
    "\n",
    "    plt.plot(history.history['loss'], color='blue', label='train')\n",
    "    plt.plot(history.history['val_loss'], color='orange', label='validation')\n",
    "    plt.ylabel('Loss')\n",
    "    plt.xlabel('Epochs')\n",
    "    plt.title('Training/Validation Curves')\n",
    "    plt.show()\n",
    "\n",
    "    # accuracy\n",
    "    model_scores = model.evaluate(X_test, y_test, verbose=0)\n",
    "\n",
    "    # AUC\n",
    "    predictions = model.predict(X_test).ravel()  # predictions\n",
    "    fpr, tpr, thresholds = roc_curve(y_test, predictions)  # ROC\n",
    "    auc_metric = auc(fpr, tpr)  # finally AUC\n",
    "\n",
    "    # print metrics\n",
    "    display(md(\"#### Evaluate Model - Metrics\"))\n",
    "    print('Accuracy:', model_scores[1])\n",
    "    print(f\"AUC: {auc_metric}\")\n",
    "    \n",
    "    fig, ax = plt.subplots(nrows=1, ncols=1, figsize=(20,10))\n",
    "    #ROC curve\n",
    "    p = sns.scatterplot(x=fpr,\n",
    "                        y=tpr,\n",
    "                        label=f'Keras NN: AUC {round(auc_metric, 3)}',\n",
    "                        ax=ax)\n",
    "    p.set_title('ROC Curve')\n",
    "    fig.show()\n",
    "    display(md(f\"### ----------------------------------\"))\n",
    "\n",
    "    return (model_scores[1], auc_metric)"
   ]
  },
  {
   "cell_type": "markdown",
   "metadata": {},
   "source": [
    "### Import Data\n",
    "\n",
    "Subset to 1,000,000 rows so as to conserve training time"
   ]
  },
  {
   "cell_type": "code",
   "execution_count": 78,
   "metadata": {},
   "outputs": [
    {
     "name": "stdout",
     "output_type": "stream",
     "text": [
      "Using 10,000,000 rows of entire dataset\n"
     ]
    }
   ],
   "source": [
    "# import data\n",
    "nrows = 10000000\n",
    "data = pd.read_csv(\"./data/HIGGS.csv\", nrows=nrows, header=None)\n",
    "data[0] = data[0].astype(int)\n",
    "print(f\"Using {nrows:,.0f} rows of entire dataset\")"
   ]
  },
  {
   "cell_type": "markdown",
   "metadata": {},
   "source": [
    "### Data Description \n",
    "\n",
    "\n",
    "> The first column is the class label (1 for signal, 0 for background), followed by the 28 features (21 low-level features then 7 high-level features): lepton pT, lepton eta, lepton phi, missing energy magnitude, missing energy phi, jet 1 pt, jet 1 eta, jet 1 phi, jet 1 b-tag, jet 2 pt, jet 2 eta, jet 2 phi, jet 2 b-tag, jet 3 pt, jet 3 eta, jet 3 phi, jet 3 b-tag, jet 4 pt, jet 4 eta, jet 4 phi, jet 4 b-tag, m_jj, m_jjj, m_lv, m_jlv, m_bb, m_wbb, m_wwbb. For more detailed information about each feature see the original paper.\n",
    "\n"
   ]
  },
  {
   "cell_type": "markdown",
   "metadata": {},
   "source": [
    "### Partition Data\n",
    "\n",
    "- Low-level features\n",
    "\n",
    "- High-level features\n",
    "\n",
    "- All features\n",
    "\n",
    "***We're running all three - why not? :)***\n",
    "\n",
    "***The train test split will be 80/20 train/test*** "
   ]
  },
  {
   "cell_type": "markdown",
   "metadata": {},
   "source": [
    "### Researchers Model vs Ours\n",
    "\n",
    "\n",
    "***Theirs***\n",
    "\n",
    "**https://arxiv.org/pdf/1402.4735.pdf** \n",
    "\n",
    "(pg. 6)\n",
    ">We selected a five-layer neural\n",
    "network with 300 hidden units in each layer, a learning\n",
    "rate of 0.05, and a weight decay coefficient of 1 × 10−5.\n",
    "\n",
    "(pg. 9, Methods)\n",
    ">Hidden units all used the tanh activation function.\n",
    "Weights were initialized from a normal distribution with\n",
    "zero mean and standard deviation 0.1 in the first layer,\n",
    "0.001 in the output layer, and 0.05 all other hidden layers\n",
    "\n",
    "(pg. 9, Methods)\n",
    ">  Gradient computations were made on mini-batches\n",
    "of size 100. A momentum term increased linearly over\n",
    "the first 200 epochs from 0.9 to 0.99, at which point it\n",
    "remained constant.\n",
    "\n",
    "**Ours**\n",
    "\n",
    "In this approach, we will model as closely as possible with the following models parameters.\n",
    "\n",
    "- Keras Sequential NN\n",
    "- Keras Optimizers (controls learning decay rate in our Stochastic Gradient Descent algorithm) \n",
    "\n",
    "The exponential decay of the learning rate at step n of the SGD search is controlled by the function:\n",
    "\n",
    "$$LR_{n}=LR_{0}*D^\\frac{n}{DS}$$\n",
    "\n",
    "\n",
    "Where LR_n is the learning rate at step n, LR_0 is the initial learning rate, D is the decay rate and DS is the number of steps where the decay will be applied. This method is slightly different than that used by the researchers (see notes in summary/conclusion)\n",
    "\n",
    "Since each of our epochs consists of 8000 steps, setting the learning rate decay steps = 10,000 will ensure decay in each step. \n",
    "\n",
    "We will match the inital learning rate of 0.05.\n",
    "\n",
    "The researchers were able to set the initial weights of their layers according to specified normal (N($\\mu,\\sigma$)) distributions - keras dense layers do not seem to support that option out of the box so we will proceed with the default keras implementation which is random initialization. \n",
    "\n",
    "Our model will consist of:\n",
    "\n",
    "- an implicit input layer (matching the dimensions of our feature set) \n",
    "- 4, 300 node dense tanh activation layers\n",
    "- 1 50% probability drop out layer between the 1st and second dense layer\n",
    "- 1 final layer with single node (sigmoid activation)\n",
    "\n",
    "The drop out layer will serve as a regularization layer.\n",
    "\n",
    "## TODO: discuss stopping\n",
    "\n",
    "\n",
    "\n",
    "\n",
    "## TODO: discuss batch size effect\n",
    "\n",
    "### Train Model\n",
    "\n",
    "**https://arxiv.org/pdf/1402.4735.pdf**\n",
    "\n"
   ]
  },
  {
   "cell_type": "code",
   "execution_count": 77,
   "metadata": {
    "scrolled": false
   },
   "outputs": [
    {
     "data": {
      "text/markdown": [
       "### Low-level"
      ],
      "text/plain": [
       "<IPython.core.display.Markdown object>"
      ]
     },
     "metadata": {},
     "output_type": "display_data"
    },
    {
     "data": {
      "text/markdown": [
       "#### Partition Data"
      ],
      "text/plain": [
       "<IPython.core.display.Markdown object>"
      ]
     },
     "metadata": {},
     "output_type": "display_data"
    },
    {
     "name": "stdout",
     "output_type": "stream",
     "text": [
      "done.\n"
     ]
    },
    {
     "data": {
      "text/markdown": [
       "#### Build Model"
      ],
      "text/plain": [
       "<IPython.core.display.Markdown object>"
      ]
     },
     "metadata": {},
     "output_type": "display_data"
    },
    {
     "name": "stdout",
     "output_type": "stream",
     "text": [
      "done.\n"
     ]
    },
    {
     "data": {
      "text/markdown": [
       "#### Train Model"
      ],
      "text/plain": [
       "<IPython.core.display.Markdown object>"
      ]
     },
     "metadata": {},
     "output_type": "display_data"
    },
    {
     "name": "stdout",
     "output_type": "stream",
     "text": [
      "Epoch 1/3\n",
      "8000/8000 [==============================] - 28s 3ms/step - loss: 0.2410 - accuracy: 0.5735 - val_loss: 0.2336 - val_accuracy: 0.6037\n",
      "Epoch 2/3\n",
      "8000/8000 [==============================] - 27s 3ms/step - loss: 0.2330 - accuracy: 0.6053 - val_loss: 0.2263 - val_accuracy: 0.6244\n",
      "Epoch 3/3\n",
      "8000/8000 [==============================] - 27s 3ms/step - loss: 0.2275 - accuracy: 0.6223 - val_loss: 0.2209 - val_accuracy: 0.6394\n"
     ]
    },
    {
     "data": {
      "text/markdown": [
       "#### Train/Loss Plot (MSE)"
      ],
      "text/plain": [
       "<IPython.core.display.Markdown object>"
      ]
     },
     "metadata": {},
     "output_type": "display_data"
    },
    {
     "data": {
      "image/png": "[encoded data removed]",
      "text/plain": [
       "<Figure size 432x288 with 1 Axes>"
      ]
     },
     "metadata": {
      "needs_background": "light"
     },
     "output_type": "display_data"
    },
    {
     "data": {
      "text/markdown": [
       "#### Evaluate Model - Metrics"
      ],
      "text/plain": [
       "<IPython.core.display.Markdown object>"
      ]
     },
     "metadata": {},
     "output_type": "display_data"
    },
    {
     "name": "stdout",
     "output_type": "stream",
     "text": [
      "Accuracy: 0.6394050121307373\n",
      "AUC: 0.6917430455865092\n"
     ]
    },
    {
     "name": "stderr",
     "output_type": "stream",
     "text": [
      "c:\\users\\skennedy\\appdata\\local\\programs\\python\\python37\\lib\\site-packages\\ipykernel_launcher.py:81: UserWarning: Matplotlib is currently using module://ipykernel.pylab.backend_inline, which is a non-GUI backend, so cannot show the figure.\n"
     ]
    },
    {
     "data": {
      "text/markdown": [
       "### ----------------------------------"
      ],
      "text/plain": [
       "<IPython.core.display.Markdown object>"
      ]
     },
     "metadata": {},
     "output_type": "display_data"
    },
    {
     "data": {
      "image/png": "[encoded data removed]",
      "text/plain": [
       "<Figure size 1440x720 with 1 Axes>"
      ]
     },
     "metadata": {
      "needs_background": "light"
     },
     "output_type": "display_data"
    }
   ],
   "source": [
    "%matplotlib inline\n",
    "\n",
    "compare_dict = {}\n",
    "\n",
    "compare_dict[\"Low-level\"] = do_model(\"Low-level\",\n",
    "                                     data.iloc[:, range(1, 22)].values,\n",
    "                                     data[0].values)\n",
    "compare_dict[\"High-level\"] = do_model(\"High-level\",\n",
    "                                     data.iloc[:, range(22, 29)].values,\n",
    "                                     data[0].values)\n",
    "compare_dict[\"Mix-Low+High\"] = do_model(\"Mix-Low+High\",\n",
    "                                     data.iloc[:, range(1, 29)].values,\n",
    "                                     data[0].values)"
   ]
  },
  {
   "cell_type": "markdown",
   "metadata": {},
   "source": [
    "***Any recommendations or modifications you’d make to the approach taken by the researchers (i.e., state any proposed changes along with the expected improvements or impact)***\n",
    "\n",
    ">In training the neural networks, the following hyperparameters were predetermined without optimization\n",
    "\n",
    "Keras classifiers can now be used with the same cross validation/grid search architecture found in sk-learn. Using that type of hyperparameter tuning could have been incredibly helpful had it been available to the researchers in this paper. Varying dropout rates, learning rates, weight decay, activation functions and network geometry (layers/depth) could have allowed them to search a much larger parameter space in an efficient way.\n",
    "\n",
    "The researchers were also seemingly limited by the lack of cheap compute we currently enjoy today. The dataset used in their hyper parameter search (2.6mm training observations, 100k validation records) could have been expanded greatly given the increased availability of GPUs or perhaps even TPUs.\n",
    "\n",
    "Additionally, many of the Keras optimization options were not available to the researchers. Useful classes such as [exponential_decay](https://keras.io/api/optimizers/learning_rate_schedules/exponential_decay/) could have saved them time coding those network features by hand. With that said, their \"hands on\" approach to learning rate decay allowed them more control over the overall decay process. Simply using the keras optimizers did not allow us to set sophisticated stopping criterion for the decay as the researchers did in their algorithm.\n",
    "\n",
    "Additionally, while they mentioned adding a dropout layer for regularization/better generalization, they did not seem to implement this layer in their [code](https://github.com/uci-igb/higgs-susy/blob/master/higgs/layers4_width300_lr005_m200_wd000001_all.py)\n",
    "\n",
    "\n",
    "***What are standard practices now versus when this paper was written?***  \n",
    "\n",
    "Sigmoid or Relu instead of tanh\n",
    "\n",
    "Random initialization of weights https://machinelearningmastery.com/why-initialize-a-neural-network-with-random-weights/\n",
    "\n",
    "\n",
    "Adam as an optimizer\n",
    "\n",
    "Pylearn2 is DEAD https://github.com/lisa-lab/pylearn2"
   ]
  },
  {
   "cell_type": "markdown",
   "metadata": {},
   "source": [
    "***How would you quantify if your result duplicated the paper’s (hint: what evaluation metric did the researchers use)?***\n",
    "\n",
    "- AUC match (possible)\n",
    "\n",
    "- Weight match, tough given that pylearn2 doesn't work and weights are not published.\n"
   ]
  },
  {
   "cell_type": "code",
   "execution_count": null,
   "metadata": {},
   "outputs": [],
   "source": []
  }
 ],
 "metadata": {
  "hide_input": false,
  "kernelspec": {
   "display_name": "Python 3",
   "language": "python",
   "name": "python3"
  },
  "language_info": {
   "codemirror_mode": {
    "name": "ipython",
    "version": 3
   },
   "file_extension": ".py",
   "mimetype": "text/x-python",
   "name": "python",
   "nbconvert_exporter": "python",
   "pygments_lexer": "ipython3",
   "version": "3.7.0"
  },
  "latex_envs": {
   "LaTeX_envs_menu_present": true,
   "autoclose": false,
   "autocomplete": true,
   "bibliofile": "biblio.bib",
   "cite_by": "apalike",
   "current_citInitial": 1,
   "eqLabelWithNumbers": true,
   "eqNumInitial": 1,
   "hotkeys": {
    "equation": "Ctrl-E",
    "itemize": "Ctrl-I"
   },
   "labels_anchors": false,
   "latex_user_defs": false,
   "report_style_numbering": false,
   "user_envs_cfg": false
  }
 },
 "nbformat": 4,
 "nbformat_minor": 4
}
