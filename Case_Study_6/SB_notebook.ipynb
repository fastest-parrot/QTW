{
 "cells": [
  {
   "cell_type": "markdown",
   "metadata": {},
   "source": [
    "# DS 7333 - Quantifying the World\n",
    "## Case Study #6: \"Searching for Exotic Particles in High-Energy Physics with Deep Learning\"¶\n",
    "\n",
    "Sterling Beason, Sean Kennedy, Emil Ramos"
   ]
  },
  {
   "cell_type": "code",
   "execution_count": 1,
   "metadata": {},
   "outputs": [],
   "source": [
    "import pandas as pd\n",
    "#tf.logging.set_verbosity(tf.logging.ERROR)\n",
    "import tensorflow as tf\n",
    "from tensorflow.keras import Sequential\n",
    "from tensorflow.keras.layers import Dense\n",
    "from tensorflow.keras.callbacks import EarlyStopping\n",
    "from sklearn.model_selection import train_test_split\n",
    "import matplotlib.pyplot as plt"
   ]
  },
  {
   "cell_type": "code",
   "execution_count": 2,
   "metadata": {},
   "outputs": [
    {
     "name": "stdout",
     "output_type": "stream",
     "text": [
      "2.3.0\n"
     ]
    }
   ],
   "source": [
    "print(tf.__version__)"
   ]
  },
  {
   "cell_type": "markdown",
   "metadata": {},
   "source": [
    "### Import Data (subset)"
   ]
  },
  {
   "cell_type": "code",
   "execution_count": 3,
   "metadata": {},
   "outputs": [
    {
     "name": "stdout",
     "output_type": "stream",
     "text": [
      "Using 1000000 rows of entire dataset\n"
     ]
    }
   ],
   "source": [
    "# import data\n",
    "nrows = 1000000\n",
    "data = pd.read_csv(\"./data/HIGGS.csv\", nrows=nrows, header=None)\n",
    "data[0] = data[0].astype(int)\n",
    "print(f\"Using {nrows} rows of entire dataset\")"
   ]
  },
  {
   "cell_type": "markdown",
   "metadata": {},
   "source": [
    "### Partition Data"
   ]
  },
  {
   "cell_type": "code",
   "execution_count": 4,
   "metadata": {},
   "outputs": [],
   "source": [
    "# Partition data\n",
    "X = data.iloc[:,range(1,22)].values\n",
    "y = data[0].values\n",
    "X_train, X_test, y_train, y_test = train_test_split(X, y, test_size=0.20, random_state=7333)"
   ]
  },
  {
   "cell_type": "markdown",
   "metadata": {},
   "source": [
    "### Build Model"
   ]
  },
  {
   "cell_type": "code",
   "execution_count": 5,
   "metadata": {},
   "outputs": [],
   "source": [
    "# model\n",
    "#tf.keras.backend.set_floatx('float64')\n",
    "model = tf.keras.Sequential([\n",
    "    tf.keras.layers.Dense(64, activation='relu'),\n",
    "    tf.keras.layers.Dense(32, activation='relu'),\n",
    "    tf.keras.layers.Dense(1)\n",
    "])\n",
    "model.compile(\n",
    "    optimizer='adam',\n",
    "    loss='binary_crossentropy',\n",
    "    metrics=['accuracy']\n",
    ")"
   ]
  },
  {
   "cell_type": "markdown",
   "metadata": {},
   "source": [
    "### Train Model"
   ]
  },
  {
   "cell_type": "code",
   "execution_count": 6,
   "metadata": {},
   "outputs": [
    {
     "name": "stdout",
     "output_type": "stream",
     "text": [
      "Epoch 1/12\n",
      "25000/25000 [==============================] - 20s 810us/step - loss: 0.6652 - accuracy: 0.6004 - val_loss: 0.6452 - val_accuracy: 0.6258\n",
      "Epoch 2/12\n",
      "25000/25000 [==============================] - 20s 792us/step - loss: 0.6368 - accuracy: 0.6389 - val_loss: 0.6456 - val_accuracy: 0.6309\n",
      "Epoch 3/12\n",
      "25000/25000 [==============================] - 20s 791us/step - loss: 0.6274 - accuracy: 0.6512 - val_loss: 0.6328 - val_accuracy: 0.6433\n",
      "Epoch 4/12\n",
      "25000/25000 [==============================] - 20s 800us/step - loss: 0.6232 - accuracy: 0.6574 - val_loss: 0.6262 - val_accuracy: 0.6559\n",
      "Epoch 5/12\n",
      "25000/25000 [==============================] - 21s 825us/step - loss: 0.6207 - accuracy: 0.6607 - val_loss: 0.6250 - val_accuracy: 0.6595\n",
      "Epoch 6/12\n",
      "25000/25000 [==============================] - 21s 821us/step - loss: 0.6194 - accuracy: 0.6622 - val_loss: 0.6185 - val_accuracy: 0.6630\n",
      "Epoch 7/12\n",
      "25000/25000 [==============================] - 20s 806us/step - loss: 0.6166 - accuracy: 0.6639 - val_loss: 0.6161 - val_accuracy: 0.6663\n",
      "Epoch 8/12\n",
      "25000/25000 [==============================] - 20s 808us/step - loss: 0.6174 - accuracy: 0.6645 - val_loss: 0.6181 - val_accuracy: 0.6658\n",
      "Epoch 9/12\n",
      "25000/25000 [==============================] - 20s 815us/step - loss: 0.6170 - accuracy: 0.6653 - val_loss: 0.6188 - val_accuracy: 0.6662\n",
      "Epoch 10/12\n",
      "25000/25000 [==============================] - 21s 824us/step - loss: 0.6148 - accuracy: 0.6676 - val_loss: 0.6110 - val_accuracy: 0.6678\n"
     ]
    }
   ],
   "source": [
    "# early stopping callback\n",
    "es = EarlyStopping(monitor = \"accuracy\", min_delta = 0.01, patience = 4)\n",
    "\n",
    "history = model.fit(\n",
    "    X_train, \n",
    "    y_train, \n",
    "    validation_data=(X_test, y_test), \n",
    "    callbacks=[es],\n",
    "    epochs=12, \n",
    "    batch_size=32\n",
    ")"
   ]
  },
  {
   "cell_type": "markdown",
   "metadata": {},
   "source": [
    "### Evaluate Model"
   ]
  },
  {
   "cell_type": "code",
   "execution_count": 7,
   "metadata": {},
   "outputs": [
    {
     "name": "stdout",
     "output_type": "stream",
     "text": [
      "Accuracy: 0.6677550077438354\n"
     ]
    },
    {
     "data": {
      "image/png": "[encoded data removed]",
      "text/plain": [
       "<Figure size 432x288 with 1 Axes>"
      ]
     },
     "metadata": {
      "needs_background": "light"
     },
     "output_type": "display_data"
    }
   ],
   "source": [
    "model_scores = model.evaluate(X_test, y_test, verbose=0)\n",
    "print('Accuracy:', model_scores[1])\n",
    "\n",
    "plt.plot(history.history['loss'], color='blue')\n",
    "plt.plot(history.history['val_loss'], color='orange')\n",
    "plt.ylabel('Loss (Blue: Train, Orange: Val.)')\n",
    "plt.xlabel('Epochs')\n",
    "plt.title('Training/Validation Curves')\n",
    "plt.show()"
   ]
  }
 ],
 "metadata": {
  "kernelspec": {
   "display_name": "Python 3",
   "language": "python",
   "name": "python3"
  },
  "language_info": {
   "codemirror_mode": {
    "name": "ipython",
    "version": 3
   },
   "file_extension": ".py",
   "mimetype": "text/x-python",
   "name": "python",
   "nbconvert_exporter": "python",
   "pygments_lexer": "ipython3",
   "version": "3.7.4"
  }
 },
 "nbformat": 4,
 "nbformat_minor": 4
}
