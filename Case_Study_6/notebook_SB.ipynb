{
 "cells": [
  {
   "cell_type": "markdown",
   "metadata": {},
   "source": [
    "# DS 7333 - Quantifying the World\n",
    "## Case Study #6: \"Searching for Exotic Particles in High-Energy Physics with Deep Learning\"¶\n",
    "\n",
    "Sterling Beason, Sean Kennedy, Emil Ramos"
   ]
  },
  {
   "cell_type": "code",
   "execution_count": 1,
   "metadata": {},
   "outputs": [],
   "source": [
    "import pandas as pd\n",
    "import matplotlib.pyplot as plt\n",
    "from IPython.display import Markdown as md\n",
    "from IPython.display import display\n",
    "# modeling\n",
    "import tensorflow as tf\n",
    "from tensorflow.keras import Sequential\n",
    "from tensorflow.keras.layers import Dense\n",
    "from tensorflow.keras.callbacks import EarlyStopping\n",
    "from sklearn.model_selection import train_test_split\n",
    "# sklearn helpers\n",
    "from sklearn.metrics import roc_curve\n",
    "from sklearn.metrics import auc"
   ]
  },
  {
   "cell_type": "code",
   "execution_count": 2,
   "metadata": {},
   "outputs": [
    {
     "name": "stdout",
     "output_type": "stream",
     "text": [
      "2.3.0\n"
     ]
    }
   ],
   "source": [
    "print(tf.__version__)"
   ]
  },
  {
   "cell_type": "markdown",
   "metadata": {},
   "source": [
    "### Import Data (subset)"
   ]
  },
  {
   "cell_type": "code",
   "execution_count": 3,
   "metadata": {},
   "outputs": [
    {
     "name": "stdout",
     "output_type": "stream",
     "text": [
      "Using 1000000 rows of entire dataset\n"
     ]
    }
   ],
   "source": [
    "# import data\n",
    "nrows = 1000000\n",
    "data = pd.read_csv(\"./data/HIGGS.csv\", nrows=nrows, header=None)\n",
    "data[0] = data[0].astype(int)\n",
    "print(f\"Using {nrows} rows of entire dataset\")"
   ]
  },
  {
   "cell_type": "code",
   "execution_count": 4,
   "metadata": {},
   "outputs": [],
   "source": [
    "def do_model(name, features, labels):\n",
    "    display(md(f\"### {name}\"))\n",
    "    \n",
    "    # Partition data\n",
    "    display(md(\"#### Partition Data\"))\n",
    "    X = features\n",
    "    y = labels\n",
    "    X_train, X_test, y_train, y_test = train_test_split(X, y, test_size=0.20, random_state=7333)\n",
    "    print(\"done.\")\n",
    "    \n",
    "    # Build model\n",
    "    display(md(\"#### Build Model\"))\n",
    "    model = tf.keras.Sequential([\n",
    "        tf.keras.layers.Dense(300, activation='tanh'),\n",
    "        tf.keras.layers.Dense(300, activation='tanh'),\n",
    "        tf.keras.layers.Dense(300, activation='tanh'),\n",
    "        tf.keras.layers.Dense(300, activation='tanh'),\n",
    "        tf.keras.layers.Dense(300, activation='tanh'),\n",
    "        tf.keras.layers.Dense(1)\n",
    "    ])\n",
    "    model.compile(\n",
    "        optimizer='sgd',\n",
    "        loss='mse',\n",
    "        metrics=['accuracy']\n",
    "    )\n",
    "    print(\"done.\")\n",
    "    \n",
    "    # early stopping callback\n",
    "    es = EarlyStopping(monitor = \"accuracy\", min_delta = 0.01, patience = 4)\n",
    "    \n",
    "    display(md(\"#### Train Model\"))\n",
    "    # fit\n",
    "    history = model.fit(\n",
    "        X_train, \n",
    "        y_train, \n",
    "        validation_data=(X_test, y_test), \n",
    "        callbacks=[es],\n",
    "        epochs=200, \n",
    "        batch_size=100\n",
    "    )\n",
    "    \n",
    "    display(md(\"#### Train/Loss Plot (MSE)\"))\n",
    "    plt.plot(history.history['loss'], color='blue')\n",
    "    plt.plot(history.history['val_loss'], color='orange')\n",
    "    plt.ylabel('Loss (Blue: Train, Orange: Val.)')\n",
    "    plt.xlabel('Epochs')\n",
    "    plt.title('Training/Validation Curves')\n",
    "    plt.show()\n",
    "    \n",
    "    # accuracy\n",
    "    model_scores = model.evaluate(X_test, y_test, verbose=0)\n",
    "    \n",
    "    # AUC\n",
    "    predictions = model.predict(X_test).ravel() # predictions\n",
    "    fpr, tpr, thresholds = roc_curve(y_test, predictions) # ROC\n",
    "    auc_metric = auc(fpr, tpr) # finally AUC\n",
    "    \n",
    "    # print metrics\n",
    "    display(md(\"#### Evaluate Model - Metrics\"))\n",
    "    print('Accuracy:', model_scores[1])\n",
    "    print(f\"AUC: {auc_metric}\")\n",
    "    \n",
    "    display(md(f\"### ----------------------------------\"))\n",
    "    \n",
    "    return (model_scores[1], auc_metric)"
   ]
  },
  {
   "cell_type": "markdown",
   "metadata": {},
   "source": [
    "### Build/Evaluate Models"
   ]
  },
  {
   "cell_type": "code",
   "execution_count": 5,
   "metadata": {
    "scrolled": false
   },
   "outputs": [
    {
     "data": {
      "text/markdown": [
       "### Low-level"
      ],
      "text/plain": [
       "<IPython.core.display.Markdown object>"
      ]
     },
     "metadata": {},
     "output_type": "display_data"
    },
    {
     "data": {
      "text/markdown": [
       "#### Partition Data"
      ],
      "text/plain": [
       "<IPython.core.display.Markdown object>"
      ]
     },
     "metadata": {},
     "output_type": "display_data"
    },
    {
     "name": "stdout",
     "output_type": "stream",
     "text": [
      "done.\n"
     ]
    },
    {
     "data": {
      "text/markdown": [
       "#### Build Model"
      ],
      "text/plain": [
       "<IPython.core.display.Markdown object>"
      ]
     },
     "metadata": {},
     "output_type": "display_data"
    },
    {
     "name": "stdout",
     "output_type": "stream",
     "text": [
      "done.\n"
     ]
    },
    {
     "data": {
      "text/markdown": [
       "#### Train Model"
      ],
      "text/plain": [
       "<IPython.core.display.Markdown object>"
      ]
     },
     "metadata": {},
     "output_type": "display_data"
    },
    {
     "name": "stdout",
     "output_type": "stream",
     "text": [
      "Epoch 1/200\n",
      "8000/8000 [==============================] - 29s 4ms/step - loss: 0.2380 - accuracy: 0.5866 - val_loss: 0.2327 - val_accuracy: 0.6052\n",
      "Epoch 2/200\n",
      "8000/8000 [==============================] - 29s 4ms/step - loss: 0.2306 - accuracy: 0.6120 - val_loss: 0.2293 - val_accuracy: 0.6156\n",
      "Epoch 3/200\n",
      "8000/8000 [==============================] - 29s 4ms/step - loss: 0.2270 - accuracy: 0.6234 - val_loss: 0.2248 - val_accuracy: 0.6302\n",
      "Epoch 4/200\n",
      "8000/8000 [==============================] - 29s 4ms/step - loss: 0.2238 - accuracy: 0.6321 - val_loss: 0.2233 - val_accuracy: 0.6343\n",
      "Epoch 5/200\n",
      "8000/8000 [==============================] - 28s 4ms/step - loss: 0.2209 - accuracy: 0.6404 - val_loss: 0.2192 - val_accuracy: 0.6443\n",
      "Epoch 6/200\n",
      "8000/8000 [==============================] - 28s 4ms/step - loss: 0.2187 - accuracy: 0.6462 - val_loss: 0.2178 - val_accuracy: 0.6478\n",
      "Epoch 7/200\n",
      "8000/8000 [==============================] - 29s 4ms/step - loss: 0.2169 - accuracy: 0.6508 - val_loss: 0.2178 - val_accuracy: 0.6481\n",
      "Epoch 8/200\n",
      "8000/8000 [==============================] - 28s 4ms/step - loss: 0.2153 - accuracy: 0.6545 - val_loss: 0.2145 - val_accuracy: 0.6563\n",
      "Epoch 9/200\n",
      "8000/8000 [==============================] - 28s 4ms/step - loss: 0.2140 - accuracy: 0.6580 - val_loss: 0.2178 - val_accuracy: 0.6502\n",
      "Epoch 10/200\n",
      "8000/8000 [==============================] - 29s 4ms/step - loss: 0.2130 - accuracy: 0.6601 - val_loss: 0.2120 - val_accuracy: 0.6619\n",
      "Epoch 11/200\n",
      "8000/8000 [==============================] - 29s 4ms/step - loss: 0.2121 - accuracy: 0.6629 - val_loss: 0.2108 - val_accuracy: 0.6651\n",
      "Epoch 12/200\n",
      "8000/8000 [==============================] - 29s 4ms/step - loss: 0.2113 - accuracy: 0.6642 - val_loss: 0.2129 - val_accuracy: 0.6616\n",
      "Epoch 13/200\n",
      "8000/8000 [==============================] - 30s 4ms/step - loss: 0.2105 - accuracy: 0.6662 - val_loss: 0.2119 - val_accuracy: 0.6626\n",
      "Epoch 14/200\n",
      "8000/8000 [==============================] - 28s 4ms/step - loss: 0.2098 - accuracy: 0.6685 - val_loss: 0.2105 - val_accuracy: 0.6662\n",
      "Epoch 15/200\n",
      "8000/8000 [==============================] - 28s 4ms/step - loss: 0.2090 - accuracy: 0.6699 - val_loss: 0.2105 - val_accuracy: 0.6668\n"
     ]
    },
    {
     "data": {
      "text/markdown": [
       "#### Train/Loss Plot (MSE)"
      ],
      "text/plain": [
       "<IPython.core.display.Markdown object>"
      ]
     },
     "metadata": {},
     "output_type": "display_data"
    },
    {
     "data": {
      "image/png": "[encoded data removed]",
      "text/plain": [
       "<Figure size 432x288 with 1 Axes>"
      ]
     },
     "metadata": {
      "needs_background": "light"
     },
     "output_type": "display_data"
    },
    {
     "data": {
      "text/markdown": [
       "#### Evaluate Model - Metrics"
      ],
      "text/plain": [
       "<IPython.core.display.Markdown object>"
      ]
     },
     "metadata": {},
     "output_type": "display_data"
    },
    {
     "name": "stdout",
     "output_type": "stream",
     "text": [
      "Accuracy: 0.6668199896812439\n",
      "AUC: 0.727275459359526\n"
     ]
    },
    {
     "data": {
      "text/markdown": [
       "### ----------------------------------"
      ],
      "text/plain": [
       "<IPython.core.display.Markdown object>"
      ]
     },
     "metadata": {},
     "output_type": "display_data"
    },
    {
     "data": {
      "text/markdown": [
       "### High-level"
      ],
      "text/plain": [
       "<IPython.core.display.Markdown object>"
      ]
     },
     "metadata": {},
     "output_type": "display_data"
    },
    {
     "data": {
      "text/markdown": [
       "#### Partition Data"
      ],
      "text/plain": [
       "<IPython.core.display.Markdown object>"
      ]
     },
     "metadata": {},
     "output_type": "display_data"
    },
    {
     "name": "stdout",
     "output_type": "stream",
     "text": [
      "done.\n"
     ]
    },
    {
     "data": {
      "text/markdown": [
       "#### Build Model"
      ],
      "text/plain": [
       "<IPython.core.display.Markdown object>"
      ]
     },
     "metadata": {},
     "output_type": "display_data"
    },
    {
     "name": "stdout",
     "output_type": "stream",
     "text": [
      "done.\n"
     ]
    },
    {
     "data": {
      "text/markdown": [
       "#### Train Model"
      ],
      "text/plain": [
       "<IPython.core.display.Markdown object>"
      ]
     },
     "metadata": {},
     "output_type": "display_data"
    },
    {
     "name": "stdout",
     "output_type": "stream",
     "text": [
      "Epoch 1/200\n",
      "8000/8000 [==============================] - 31s 4ms/step - loss: 0.2323 - accuracy: 0.6196 - val_loss: 0.2230 - val_accuracy: 0.6356\n",
      "Epoch 2/200\n",
      "8000/8000 [==============================] - 30s 4ms/step - loss: 0.2197 - accuracy: 0.6460 - val_loss: 0.2154 - val_accuracy: 0.6532\n",
      "Epoch 3/200\n",
      "8000/8000 [==============================] - 29s 4ms/step - loss: 0.2141 - accuracy: 0.6568 - val_loss: 0.2125 - val_accuracy: 0.6650\n",
      "Epoch 4/200\n",
      "8000/8000 [==============================] - 26s 3ms/step - loss: 0.2101 - accuracy: 0.6648 - val_loss: 0.2095 - val_accuracy: 0.6683\n",
      "Epoch 5/200\n",
      "8000/8000 [==============================] - 25s 3ms/step - loss: 0.2074 - accuracy: 0.6699 - val_loss: 0.2084 - val_accuracy: 0.6722\n",
      "Epoch 6/200\n",
      "8000/8000 [==============================] - 26s 3ms/step - loss: 0.2051 - accuracy: 0.6746 - val_loss: 0.2043 - val_accuracy: 0.6795\n",
      "Epoch 7/200\n",
      "8000/8000 [==============================] - 25s 3ms/step - loss: 0.2026 - accuracy: 0.6805 - val_loss: 0.2020 - val_accuracy: 0.6827\n",
      "Epoch 8/200\n",
      "8000/8000 [==============================] - 25s 3ms/step - loss: 0.2007 - accuracy: 0.6852 - val_loss: 0.2009 - val_accuracy: 0.6852\n",
      "Epoch 9/200\n",
      "8000/8000 [==============================] - 25s 3ms/step - loss: 0.1991 - accuracy: 0.6884 - val_loss: 0.1987 - val_accuracy: 0.6896\n",
      "Epoch 10/200\n",
      "8000/8000 [==============================] - 25s 3ms/step - loss: 0.1977 - accuracy: 0.6920 - val_loss: 0.1972 - val_accuracy: 0.6922\n",
      "Epoch 11/200\n",
      "8000/8000 [==============================] - 25s 3ms/step - loss: 0.1964 - accuracy: 0.6945 - val_loss: 0.1958 - val_accuracy: 0.6968\n",
      "Epoch 12/200\n",
      "8000/8000 [==============================] - 25s 3ms/step - loss: 0.1949 - accuracy: 0.6975 - val_loss: 0.1954 - val_accuracy: 0.6973\n",
      "Epoch 13/200\n",
      "8000/8000 [==============================] - 25s 3ms/step - loss: 0.1939 - accuracy: 0.6991 - val_loss: 0.1934 - val_accuracy: 0.6993\n",
      "Epoch 14/200\n",
      "8000/8000 [==============================] - 25s 3ms/step - loss: 0.1933 - accuracy: 0.7006 - val_loss: 0.1949 - val_accuracy: 0.6962\n"
     ]
    },
    {
     "data": {
      "text/markdown": [
       "#### Train/Loss Plot (MSE)"
      ],
      "text/plain": [
       "<IPython.core.display.Markdown object>"
      ]
     },
     "metadata": {},
     "output_type": "display_data"
    },
    {
     "data": {
      "image/png": "[encoded data removed]",
      "text/plain": [
       "<Figure size 432x288 with 1 Axes>"
      ]
     },
     "metadata": {
      "needs_background": "light"
     },
     "output_type": "display_data"
    },
    {
     "data": {
      "text/markdown": [
       "#### Evaluate Model - Metrics"
      ],
      "text/plain": [
       "<IPython.core.display.Markdown object>"
      ]
     },
     "metadata": {},
     "output_type": "display_data"
    },
    {
     "name": "stdout",
     "output_type": "stream",
     "text": [
      "Accuracy: 0.6961749792098999\n",
      "AUC: 0.7703684919750498\n"
     ]
    },
    {
     "data": {
      "text/markdown": [
       "### ----------------------------------"
      ],
      "text/plain": [
       "<IPython.core.display.Markdown object>"
      ]
     },
     "metadata": {},
     "output_type": "display_data"
    },
    {
     "data": {
      "text/markdown": [
       "### Mix (Low+High)"
      ],
      "text/plain": [
       "<IPython.core.display.Markdown object>"
      ]
     },
     "metadata": {},
     "output_type": "display_data"
    },
    {
     "data": {
      "text/markdown": [
       "#### Partition Data"
      ],
      "text/plain": [
       "<IPython.core.display.Markdown object>"
      ]
     },
     "metadata": {},
     "output_type": "display_data"
    },
    {
     "name": "stdout",
     "output_type": "stream",
     "text": [
      "done.\n"
     ]
    },
    {
     "data": {
      "text/markdown": [
       "#### Build Model"
      ],
      "text/plain": [
       "<IPython.core.display.Markdown object>"
      ]
     },
     "metadata": {},
     "output_type": "display_data"
    },
    {
     "name": "stdout",
     "output_type": "stream",
     "text": [
      "done.\n"
     ]
    },
    {
     "data": {
      "text/markdown": [
       "#### Train Model"
      ],
      "text/plain": [
       "<IPython.core.display.Markdown object>"
      ]
     },
     "metadata": {},
     "output_type": "display_data"
    },
    {
     "name": "stdout",
     "output_type": "stream",
     "text": [
      "Epoch 1/200\n",
      "8000/8000 [==============================] - 26s 3ms/step - loss: 0.2254 - accuracy: 0.6314 - val_loss: 0.2195 - val_accuracy: 0.6508\n",
      "Epoch 2/200\n",
      "8000/8000 [==============================] - 25s 3ms/step - loss: 0.2168 - accuracy: 0.6547 - val_loss: 0.2110 - val_accuracy: 0.6724\n",
      "Epoch 3/200\n",
      "8000/8000 [==============================] - 25s 3ms/step - loss: 0.2083 - accuracy: 0.6736 - val_loss: 0.2047 - val_accuracy: 0.6806\n",
      "Epoch 4/200\n",
      "8000/8000 [==============================] - 25s 3ms/step - loss: 0.2042 - accuracy: 0.6821 - val_loss: 0.2016 - val_accuracy: 0.6881\n",
      "Epoch 5/200\n",
      "8000/8000 [==============================] - 25s 3ms/step - loss: 0.2005 - accuracy: 0.6887 - val_loss: 0.2011 - val_accuracy: 0.6908\n",
      "Epoch 6/200\n",
      "8000/8000 [==============================] - 25s 3ms/step - loss: 0.1975 - accuracy: 0.6953 - val_loss: 0.1968 - val_accuracy: 0.6974\n",
      "Epoch 7/200\n",
      "8000/8000 [==============================] - 25s 3ms/step - loss: 0.1945 - accuracy: 0.7013 - val_loss: 0.1932 - val_accuracy: 0.7051\n",
      "Epoch 8/200\n",
      "8000/8000 [==============================] - 25s 3ms/step - loss: 0.1921 - accuracy: 0.7060 - val_loss: 0.1907 - val_accuracy: 0.7086\n",
      "Epoch 9/200\n",
      "8000/8000 [==============================] - 25s 3ms/step - loss: 0.1903 - accuracy: 0.7098 - val_loss: 0.1899 - val_accuracy: 0.7117\n",
      "Epoch 10/200\n",
      "8000/8000 [==============================] - 25s 3ms/step - loss: 0.1891 - accuracy: 0.7120 - val_loss: 0.1879 - val_accuracy: 0.7136\n",
      "Epoch 11/200\n",
      "8000/8000 [==============================] - 25s 3ms/step - loss: 0.1879 - accuracy: 0.7145 - val_loss: 0.1878 - val_accuracy: 0.7162\n",
      "Epoch 12/200\n",
      "8000/8000 [==============================] - 25s 3ms/step - loss: 0.1868 - accuracy: 0.7167 - val_loss: 0.1866 - val_accuracy: 0.7177\n",
      "Epoch 13/200\n",
      "8000/8000 [==============================] - 24s 3ms/step - loss: 0.1858 - accuracy: 0.7188 - val_loss: 0.1868 - val_accuracy: 0.7175\n",
      "Epoch 14/200\n",
      "8000/8000 [==============================] - 25s 3ms/step - loss: 0.1849 - accuracy: 0.7208 - val_loss: 0.1861 - val_accuracy: 0.7188\n"
     ]
    },
    {
     "data": {
      "text/markdown": [
       "#### Train/Loss Plot (MSE)"
      ],
      "text/plain": [
       "<IPython.core.display.Markdown object>"
      ]
     },
     "metadata": {},
     "output_type": "display_data"
    },
    {
     "data": {
      "image/png": "[encoded data removed]",
      "text/plain": [
       "<Figure size 432x288 with 1 Axes>"
      ]
     },
     "metadata": {
      "needs_background": "light"
     },
     "output_type": "display_data"
    },
    {
     "data": {
      "text/markdown": [
       "#### Evaluate Model - Metrics"
      ],
      "text/plain": [
       "<IPython.core.display.Markdown object>"
      ]
     },
     "metadata": {},
     "output_type": "display_data"
    },
    {
     "name": "stdout",
     "output_type": "stream",
     "text": [
      "Accuracy: 0.7188199758529663\n",
      "AUC: 0.7951076746338199\n"
     ]
    },
    {
     "data": {
      "text/markdown": [
       "### ----------------------------------"
      ],
      "text/plain": [
       "<IPython.core.display.Markdown object>"
      ]
     },
     "metadata": {},
     "output_type": "display_data"
    }
   ],
   "source": [
    "%matplotlib inline\n",
    "\n",
    "compare_dict = {}\n",
    "\n",
    "compare_dict[\"Low-level\"] = do_model(\"Low-level\", data.iloc[:,range(1,22)].values, data[0].values)\n",
    "compare_dict[\"High-level\"] = do_model(\"High-level\", data.iloc[:,range(22,29)].values, data[0].values)\n",
    "compare_dict[\"Mix-Low+High\"] = do_model(\"Mix (Low+High)\", data.iloc[:,range(1,29)].values, data[0].values)"
   ]
  },
  {
   "cell_type": "markdown",
   "metadata": {},
   "source": [
    "### Model Comparison\n",
    "\n",
    "\"model name\": (Accuracy, AUC)"
   ]
  },
  {
   "cell_type": "code",
   "execution_count": 6,
   "metadata": {},
   "outputs": [
    {
     "data": {
      "text/plain": [
       "{'Low-level': (0.6668199896812439, 0.727275459359526),\n",
       " 'High-level': (0.6961749792098999, 0.7703684919750498),\n",
       " 'Mix-Low+High': (0.7188199758529663, 0.7951076746338199)}"
      ]
     },
     "execution_count": 6,
     "metadata": {},
     "output_type": "execute_result"
    }
   ],
   "source": [
    "compare_dict"
   ]
  }
 ],
 "metadata": {
  "kernelspec": {
   "display_name": "Python 3",
   "language": "python",
   "name": "python3"
  },
  "language_info": {
   "codemirror_mode": {
    "name": "ipython",
    "version": 3
   },
   "file_extension": ".py",
   "mimetype": "text/x-python",
   "name": "python",
   "nbconvert_exporter": "python",
   "pygments_lexer": "ipython3",
   "version": "3.7.4"
  }
 },
 "nbformat": 4,
 "nbformat_minor": 4
}
