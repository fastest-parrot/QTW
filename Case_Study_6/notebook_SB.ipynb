{
 "cells": [
  {
   "cell_type": "markdown",
   "metadata": {},
   "source": [
    "# DS 7333 - Quantifying the World\n",
    "## Case Study #6: \"Searching for Exotic Particles in High-Energy Physics with Deep Learning\"¶\n",
    "\n",
    "Sterling Beason, Sean Kennedy, Emil Ramos"
   ]
  },
  {
   "cell_type": "code",
   "execution_count": 1,
   "metadata": {},
   "outputs": [],
   "source": [
    "import pandas as pd\n",
    "import matplotlib.pyplot as plt\n",
    "# modeling\n",
    "import tensorflow as tf\n",
    "from tensorflow.keras import Sequential\n",
    "from tensorflow.keras.layers import Dense\n",
    "from tensorflow.keras.callbacks import EarlyStopping\n",
    "from sklearn.model_selection import train_test_split\n",
    "# sklearn helpers\n",
    "from sklearn.metrics import roc_curve\n",
    "from sklearn.metrics import auc"
   ]
  },
  {
   "cell_type": "code",
   "execution_count": 2,
   "metadata": {},
   "outputs": [
    {
     "name": "stdout",
     "output_type": "stream",
     "text": [
      "2.3.0\n"
     ]
    }
   ],
   "source": [
    "print(tf.__version__)"
   ]
  },
  {
   "cell_type": "markdown",
   "metadata": {},
   "source": [
    "### Import Data (subset)"
   ]
  },
  {
   "cell_type": "code",
   "execution_count": 3,
   "metadata": {},
   "outputs": [
    {
     "name": "stdout",
     "output_type": "stream",
     "text": [
      "Using 1000000 rows of entire dataset\n"
     ]
    }
   ],
   "source": [
    "# import data\n",
    "nrows = 1000000\n",
    "data = pd.read_csv(\"./data/HIGGS.csv\", nrows=nrows, header=None)\n",
    "data[0] = data[0].astype(int)\n",
    "print(f\"Using {nrows} rows of entire dataset\")"
   ]
  },
  {
   "cell_type": "markdown",
   "metadata": {},
   "source": [
    "### Partition Data\n",
    "\n",
    "Low-level features"
   ]
  },
  {
   "cell_type": "code",
   "execution_count": 4,
   "metadata": {},
   "outputs": [],
   "source": [
    "# Partition data\n",
    "X = data.iloc[:,range(1,22)].values\n",
    "y = data[0].values\n",
    "X_train, X_test, y_train, y_test = train_test_split(X, y, test_size=0.20, random_state=7333)"
   ]
  },
  {
   "cell_type": "markdown",
   "metadata": {},
   "source": [
    "### Build Model\n",
    "\n",
    "**https://arxiv.org/pdf/1402.4735.pdf** \n",
    "\n",
    "(pg. 6)\n",
    ">We selected a five-layer neural\n",
    "network with 300 hidden units in each layer, a learning\n",
    "rate of 0.05, and a weight decay coefficient of 1 × 10−5.\n",
    "\n",
    "(pg. 9, Methods)\n",
    ">Hidden units all used the tanh activation function.\n",
    "Weights were initialized from a normal distribution with\n",
    "zero mean and standard deviation 0.1 in the first layer,\n",
    "0.001 in the output layer, and 0.05 all other hidden layers"
   ]
  },
  {
   "cell_type": "code",
   "execution_count": 5,
   "metadata": {},
   "outputs": [],
   "source": [
    "# model\n",
    "#tf.keras.backend.set_floatx('float64')\n",
    "model = tf.keras.Sequential([\n",
    "    tf.keras.layers.Dense(300, activation='tanh'),\n",
    "    tf.keras.layers.Dense(300, activation='tanh'),\n",
    "    tf.keras.layers.Dense(300, activation='tanh'),\n",
    "    tf.keras.layers.Dense(300, activation='tanh'),\n",
    "    tf.keras.layers.Dense(300, activation='tanh'),\n",
    "    tf.keras.layers.Dense(1)\n",
    "])\n",
    "model.compile(\n",
    "    optimizer='sgd',\n",
    "    loss='mse',\n",
    "    metrics=['accuracy']\n",
    ")"
   ]
  },
  {
   "cell_type": "markdown",
   "metadata": {},
   "source": [
    "### Train Model\n",
    "\n",
    "**https://arxiv.org/pdf/1402.4735.pdf**\n",
    "\n",
    "(pg. 9, Methods)\n",
    ">  Gradient computations were made on mini-batches\n",
    "of size 100. A momentum term increased linearly over\n",
    "the first 200 epochs from 0.9 to 0.99, at which point it\n",
    "remained constant."
   ]
  },
  {
   "cell_type": "code",
   "execution_count": 6,
   "metadata": {},
   "outputs": [
    {
     "name": "stdout",
     "output_type": "stream",
     "text": [
      "Epoch 1/200\n",
      "8000/8000 [==============================] - 24s 3ms/step - loss: 0.2379 - accuracy: 0.5863 - val_loss: 0.2326 - val_accuracy: 0.6077\n",
      "Epoch 2/200\n",
      "8000/8000 [==============================] - 22s 3ms/step - loss: 0.2307 - accuracy: 0.6116 - val_loss: 0.2278 - val_accuracy: 0.6222\n",
      "Epoch 3/200\n",
      "8000/8000 [==============================] - 22s 3ms/step - loss: 0.2276 - accuracy: 0.6210 - val_loss: 0.2271 - val_accuracy: 0.6234\n",
      "Epoch 4/200\n",
      "8000/8000 [==============================] - 22s 3ms/step - loss: 0.2251 - accuracy: 0.6286 - val_loss: 0.2231 - val_accuracy: 0.6362\n",
      "Epoch 5/200\n",
      "8000/8000 [==============================] - 22s 3ms/step - loss: 0.2227 - accuracy: 0.6352 - val_loss: 0.2231 - val_accuracy: 0.6349\n",
      "Epoch 6/200\n",
      "8000/8000 [==============================] - 22s 3ms/step - loss: 0.2205 - accuracy: 0.6409 - val_loss: 0.2198 - val_accuracy: 0.6433\n",
      "Epoch 7/200\n",
      "8000/8000 [==============================] - 22s 3ms/step - loss: 0.2184 - accuracy: 0.6461 - val_loss: 0.2200 - val_accuracy: 0.6443\n",
      "Epoch 8/200\n",
      "8000/8000 [==============================] - 23s 3ms/step - loss: 0.2166 - accuracy: 0.6512 - val_loss: 0.2162 - val_accuracy: 0.6516\n",
      "Epoch 9/200\n",
      "8000/8000 [==============================] - 23s 3ms/step - loss: 0.2153 - accuracy: 0.6548 - val_loss: 0.2145 - val_accuracy: 0.6566\n",
      "Epoch 10/200\n",
      "8000/8000 [==============================] - 23s 3ms/step - loss: 0.2142 - accuracy: 0.6574 - val_loss: 0.2145 - val_accuracy: 0.6567\n",
      "Epoch 11/200\n",
      "8000/8000 [==============================] - 23s 3ms/step - loss: 0.2132 - accuracy: 0.6602 - val_loss: 0.2126 - val_accuracy: 0.6636\n",
      "Epoch 12/200\n",
      "8000/8000 [==============================] - 23s 3ms/step - loss: 0.2123 - accuracy: 0.6621 - val_loss: 0.2136 - val_accuracy: 0.6582\n",
      "Epoch 13/200\n",
      "8000/8000 [==============================] - 23s 3ms/step - loss: 0.2115 - accuracy: 0.6643 - val_loss: 0.2127 - val_accuracy: 0.6620\n",
      "Epoch 14/200\n",
      "8000/8000 [==============================] - 23s 3ms/step - loss: 0.2107 - accuracy: 0.6660 - val_loss: 0.2108 - val_accuracy: 0.6657\n",
      "Epoch 15/200\n",
      "8000/8000 [==============================] - 23s 3ms/step - loss: 0.2101 - accuracy: 0.6676 - val_loss: 0.2104 - val_accuracy: 0.6664\n",
      "Epoch 16/200\n",
      "8000/8000 [==============================] - 23s 3ms/step - loss: 0.2094 - accuracy: 0.6693 - val_loss: 0.2094 - val_accuracy: 0.6692\n"
     ]
    }
   ],
   "source": [
    "# early stopping callback\n",
    "es = EarlyStopping(monitor = \"accuracy\", min_delta = 0.01, patience = 4)\n",
    "\n",
    "history = model.fit(\n",
    "    X_train, \n",
    "    y_train, \n",
    "    validation_data=(X_test, y_test), \n",
    "    callbacks=[es],\n",
    "    epochs=200, \n",
    "    batch_size=100\n",
    ")"
   ]
  },
  {
   "cell_type": "markdown",
   "metadata": {},
   "source": [
    "#### Train/Loss Plot"
   ]
  },
  {
   "cell_type": "code",
   "execution_count": 7,
   "metadata": {},
   "outputs": [
    {
     "data": {
      "image/png": "[encoded data removed]",
      "text/plain": [
       "<Figure size 432x288 with 1 Axes>"
      ]
     },
     "metadata": {
      "needs_background": "light"
     },
     "output_type": "display_data"
    }
   ],
   "source": [
    "plt.plot(history.history['loss'], color='blue')\n",
    "plt.plot(history.history['val_loss'], color='orange')\n",
    "plt.ylabel('Loss (Blue: Train, Orange: Val.)')\n",
    "plt.xlabel('Epochs')\n",
    "plt.title('Training/Validation Curves')\n",
    "plt.show()"
   ]
  },
  {
   "cell_type": "markdown",
   "metadata": {},
   "source": [
    "### Evaluate Model\n",
    "\n",
    "#### Accuracy"
   ]
  },
  {
   "cell_type": "code",
   "execution_count": 8,
   "metadata": {},
   "outputs": [
    {
     "name": "stdout",
     "output_type": "stream",
     "text": [
      "Accuracy: 0.6692299842834473\n"
     ]
    }
   ],
   "source": [
    "model_scores = model.evaluate(X_test, y_test, verbose=0)\n",
    "print('Accuracy:', model_scores[1])"
   ]
  },
  {
   "cell_type": "markdown",
   "metadata": {},
   "source": [
    "#### AUC"
   ]
  },
  {
   "cell_type": "code",
   "execution_count": 10,
   "metadata": {},
   "outputs": [
    {
     "name": "stdout",
     "output_type": "stream",
     "text": [
      "AUC: 0.7308512130145483\n"
     ]
    }
   ],
   "source": [
    "predictions = model.predict(X_test).ravel() # predictions\n",
    "fpr, tpr, thresholds = roc_curve(y_test, predictions) # ROC\n",
    "auc_metric = auc(fpr, tpr) # finally AUC\n",
    "print(f\"AUC: {auc_metric}\")"
   ]
  }
 ],
 "metadata": {
  "kernelspec": {
   "display_name": "Python 3",
   "language": "python",
   "name": "python3"
  },
  "language_info": {
   "codemirror_mode": {
    "name": "ipython",
    "version": 3
   },
   "file_extension": ".py",
   "mimetype": "text/x-python",
   "name": "python",
   "nbconvert_exporter": "python",
   "pygments_lexer": "ipython3",
   "version": "3.7.4"
  }
 },
 "nbformat": 4,
 "nbformat_minor": 4
}
